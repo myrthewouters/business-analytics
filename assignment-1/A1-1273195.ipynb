{
 "cells": [
  {
   "cell_type": "markdown",
   "metadata": {},
   "source": [
    "# Assignment 1 - Factory Location Problem\n",
    "JM0100-M-6 Business Analytics  \n",
    "Myrthe Wouters  \n",
    "u1273195"
   ]
  },
  {
   "cell_type": "markdown",
   "metadata": {},
   "source": [
    "## Factory Location Problem\n",
    "A company is transitioning into producing a product they formerly bought externally. To that end, it needs to decide where to build its factories. There are $N$ possible locations for a factory. Fixed costs (in EURO) per year for opening a factory at location $i$ are $F(i)$. Each factory can produce at most $C(i)$ kilograms of the product. The total demand per year (in kilograms) for each delivery address (DA) $j$ is $D(j)$. The transport costs (in EURO) for one kilogram between the factories and delivery addresses are $t(i,j)$.\n",
    "\n",
    "We want to figure out at which locations factories will be opened such that the total costs are minimal?"
   ]
  },
  {
   "cell_type": "markdown",
   "metadata": {},
   "source": [
    "### Question 1\n",
    "#### (3 points) Develop a mathematical optimization model to answer this question. Clearly write down what are decision variables, objectives, and constraints.\n",
    "\n",
    "##### Decision variables  \n",
    "$y_i = \\left\\{\n",
    "    \\begin{array}{ll}\n",
    "        1 & \\textrm{if a factory is build at location $i$}\\\\\n",
    "        0 & \\textrm{otherwise}\n",
    "    \\end{array}\n",
    "\\right.$\n",
    "\n",
    "$x_{ij}$ is the amount of kilograms supplied by factory $i$ to delivery address $j$.\n",
    "\n",
    "##### Constraints \n",
    "\n",
    "Demand of each delivery address $j$ should be satisfied:    \n",
    "$\\sum_{i=1}^{n}x_{ij} = D_j$ for $j=1, ..., m$\n",
    "  \n",
    "\n",
    "Capacity constraint of each factory $i$ should be satisfied:  \n",
    "$\\sum_{j=1}^{m}x_{ij} \\leq C_iy_i$ for $i=1, ..., n$\n",
    "\n",
    "Natural constraints:  \n",
    "$x_{ij} \\geq 0$ for $i=1, ..., n; j=1, ..., m$\n",
    "\n",
    "$y_i \\in \\mathbb{B}$ for $i=1, ..., n$\n",
    "\n",
    "##### Objective function\n",
    "\n",
    "$f(x,y) = \\sum_{i=1}^{n} \\sum_{j=1}^{m} t_{ij}x_{ij} + \\sum_{i=1}^{n} F_i y_i$\n",
    "\n",
    "##### Formulation\n",
    "\n",
    "$\n",
    "\\begin{array}{lll}\n",
    "     min & \\sum_{i=1}^{n} \\sum_{j=1}^{m} t_{ij}x_{ij} + \\sum_{i=1}^{n} F_i y_i & \\\\\n",
    "     s.t. & \\sum_{i=1}^{n}x_{ij} = D_j & 1 \\leq j \\leq m \\\\\n",
    "     & \\sum_{j=1}^{m}x_{ij} \\leq C_iy_i & 1 \\leq i \\leq n \\\\ \n",
    "     & x_{ij} \\geq 0 & 1 \\leq j \\leq m, 1 \\leq i \\leq n \\\\\n",
    "     & y_i \\in \\mathbb{B} & 1 \\leq i \\leq n \\\\\n",
    "\\end{array}\n",
    "$\n"
   ]
  },
  {
   "cell_type": "markdown",
   "metadata": {},
   "source": [
    "### Question 2\n",
    "#### (4 points) Solve the model for the following data:\n",
    "* $N=37$, the possible locations are given in the Excel spreadsheet.\n",
    "* Set of possible locations for DCs is same as set of DAs.\n",
    "* Capacity $C(i)$ is 4000 kilograms for all $i$.\n",
    "* $D(j)$ is $100$ kilograms, for all locations $j$.\n",
    "* $F(i) = 100,000$ for all locations $i$.\n",
    "* $t(i,j)$ is equal to the distance between locations ($1$ euro per kilometer per kilogram), for all locations $i$ and The distances between locations are given in the attached Excel spreadsheet.\n",
    "\n",
    "__What is the objective value? At which locations are factories opened?__"
   ]
  },
  {
   "cell_type": "code",
   "execution_count": 1,
   "metadata": {
    "jupyter": {
     "source_hidden": true
    }
   },
   "outputs": [],
   "source": [
    "# import necessary packages\n",
    "import pandas as pd\n",
    "from pulp import *"
   ]
  },
  {
   "cell_type": "code",
   "execution_count": 2,
   "metadata": {
    "jupyter": {
     "source_hidden": true
    }
   },
   "outputs": [],
   "source": [
    "# import data\n",
    "distances = pd.read_excel('Distances.xlsx', index_col='Distances in km')\n",
    "locations = list(distances.index)\n",
    "delivery_addresses = list(distances.columns)\n",
    "C = {i: 4000 for i in locations} # Capacity\n",
    "D = {j: 100 for j in delivery_addresses} # Demand\n",
    "F = {i: 100000 for i in locations} # Fixed costs\n",
    "t = {i: {j: distances.loc[i, j] for j in delivery_addresses} for i in locations} # Transport costs"
   ]
  },
  {
   "cell_type": "code",
   "execution_count": 3,
   "metadata": {
    "jupyter": {
     "source_hidden": true
    }
   },
   "outputs": [],
   "source": [
    "# General functions for defining and solving the model and for printing the results\n",
    "\n",
    "## Function for defining the model \n",
    "\n",
    "def factory_location_problem(name, dc, da, t, F, D, C, max_nr_factories=None):\n",
    "    \n",
    "    # Create the model\n",
    "    model = LpProblem(name=name, sense=LpMinimize)\n",
    "    \n",
    "    # Create list with combinations of all dc and da\n",
    "    location_delivery = [(i, j) for i in dc for j in da]\n",
    "\n",
    "    # Set LpVariable parameters\n",
    "    # Natural constraints included\n",
    "    y = LpVariable.dicts(name='location', indexs=dc, lowBound=0, upBound=1, cat='Integer')\n",
    "    x = LpVariable.dicts(name='kilograms', indexs=location_delivery, lowBound=0, cat='Integer')\n",
    "    \n",
    "    \n",
    "    # Add objective function\n",
    "    model += lpSum(t[i][j] * x[(i,j)] for i in dc for j in da) + lpSum(F[i]*y[i] for i in dc)\n",
    "    \n",
    "    # Add constraints\n",
    "    for j in da:\n",
    "        model += lpSum(x[(i,j)] for i in dc) == D[j] # demand constraint\n",
    "\n",
    "    for i in dc:\n",
    "        model += lpSum(x[(i,j)] for j in da) <= C[i]*y[i] # capacity constraint\n",
    "        \n",
    "    # Add extra constraint for the maximum number of factories that can be opened if applies (Question 3)\n",
    "    if max_nr_factories:\n",
    "        for i in dc:\n",
    "            model += lpSum(y[i] for i in dc) <= max_nr_factories \n",
    "    \n",
    "    return model\n",
    "\n",
    "## Function for solving the model\n",
    "\n",
    "def solve_model(model):\n",
    "    model.solve()\n",
    "    \n",
    "    # Extract objective value\n",
    "    total_costs = value(model.objective)\n",
    "    \n",
    "    # Extract the locations where factories will be placed, i.e., y_i = 1\n",
    "    factories = [v.name[len('location_'):] for v in model.variables() \n",
    "                 if v.varValue==1 and v.name.startswith('location_')]\n",
    "    \n",
    "    # Dictionary with optimal solution\n",
    "    result = {'Total costs': total_costs, \n",
    "              'Factories': factories}\n",
    "    \n",
    "    return result\n",
    "\n",
    "## Function for printing the results\n",
    "\n",
    "def print_result(solution):\n",
    "    print('Total costs = {}'.format(solution['Total costs']))\n",
    "    print('Factories will be opened at the following locations: {}.'.format(', '.join(solution['Factories'])))"
   ]
  },
  {
   "cell_type": "code",
   "execution_count": 4,
   "metadata": {},
   "outputs": [
    {
     "name": "stdout",
     "output_type": "stream",
     "text": [
      "Total costs = 1450600.0\n",
      "Factories will be opened at the following locations: Antwerp, Athens, Berlin, Madrid, Rome, Stuttgart, Turin.\n"
     ]
    }
   ],
   "source": [
    "# Define model for question 2\n",
    "model_q2= factory_location_problem('factory-location-problem-q2', locations, delivery_addresses, t, F, D, C)\n",
    "solution_q2 = solve_model(model_q2) # Solve\n",
    "\n",
    "print_result(solution_q2)"
   ]
  },
  {
   "cell_type": "markdown",
   "metadata": {},
   "source": [
    "### Question 3\n",
    "\n",
    "#### (a) (1 point) Given the parameters and descriptions in Question 2, we now additionally restrict the number of factories that can be opened to a maximum of 6. Which constraint(s) do you need to add to the original mathematical model?\n",
    "\n",
    "The following constraint needs to be added to the original mathematical model:\n",
    "\n",
    "$\\sum_{i=1}^{n} y_i \\leq 6$ for $i=1,..., n$\n",
    "\n",
    "So that the new formulation becomes:\n",
    "\n",
    "$\n",
    "\\begin{array}{lll}\n",
    "     min & \\sum_{i=1}^{n} \\sum_{j=1}^{m} t_{ij}x_{ij} + \\sum_{i=1}^{n} F_i y_i & \\\\\n",
    "     s.t. & \\sum_{i=1}^{n}x_{ij} = D_j & 1 \\leq j \\leq m \\\\\n",
    "     & \\sum_{j=1}^{m}x_{ij} \\leq C_iy_i & 1 \\leq i \\leq n \\\\ \n",
    "     & \\sum_{i=1}^{n} y_i \\leq 6 & 1 \\leq i \\leq n \\\\\n",
    "     & x_{ij} \\geq 0 & 1 \\leq j \\leq m, 1 \\leq i \\leq n \\\\\n",
    "     & y_i \\in \\mathbb{B} & 1 \\leq i \\leq n \\\\\n",
    "\\end{array}\n",
    "$\n",
    "\n",
    "\n",
    "#### (b) (1 point) Solve this new model. At which locations are factories opened, and what is the objective value?"
   ]
  },
  {
   "cell_type": "code",
   "execution_count": 5,
   "metadata": {},
   "outputs": [
    {
     "name": "stdout",
     "output_type": "stream",
     "text": [
      "Total costs = 1454000.0\n",
      "Factories will be opened at the following locations: Antwerp, Athens, Berlin, Genoa, Madrid, Stuttgart.\n"
     ]
    }
   ],
   "source": [
    "# Define model for question 3, including the new constraint for the maximum number of factories equal to six\n",
    "model_q3 = factory_location_problem('factory-location-problem-q3', locations, delivery_addresses, t, F, D, C, \n",
    "                                   max_nr_factories=6)\n",
    "solution_q3 = solve_model(model_q3) # Solve\n",
    "\n",
    "print_result(solution_q3)"
   ]
  },
  {
   "cell_type": "markdown",
   "metadata": {},
   "source": [
    "### Question 4\n",
    "#### (1 point) At which locations are factories opened when we remove Madrid and Rome as possibilities (they are still used as a delivery address)? Do not enforce the extra restriction from question 3 in answering this question. "
   ]
  },
  {
   "cell_type": "code",
   "execution_count": 6,
   "metadata": {},
   "outputs": [
    {
     "name": "stdout",
     "output_type": "stream",
     "text": [
      "Total costs = 1460600.0\n",
      "Factories will be opened at the following locations: Antwerp, Athens, Berlin, Lisbon, Naples, Stuttgart, Turin.\n"
     ]
    }
   ],
   "source": [
    "# Remove Madrid and Rome as locations for factory possibility, leave delivery addresses unchanged\n",
    "locations_q4 = [location for location in locations if location not in ['Rome', 'Madrid']]\n",
    "\n",
    "# Define model for question 4, excluding the new possible factory locations in Madrid and Rome\n",
    "model_q4 = factory_location_problem('factory-location-problem-q4', locations_q4, delivery_addresses, t, F, D, C)\n",
    "solution_q4 = solve_model(model_q4) # Solve\n",
    "\n",
    "print_result(solution_q4)"
   ]
  }
 ],
 "metadata": {
  "kernelspec": {
   "display_name": "Python 3",
   "language": "python",
   "name": "python3"
  },
  "language_info": {
   "codemirror_mode": {
    "name": "ipython",
    "version": 3
   },
   "file_extension": ".py",
   "mimetype": "text/x-python",
   "name": "python",
   "nbconvert_exporter": "python",
   "pygments_lexer": "ipython3",
   "version": "3.7.3"
  }
 },
 "nbformat": 4,
 "nbformat_minor": 4
}
